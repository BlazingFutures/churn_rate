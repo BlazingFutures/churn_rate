{
 "cells": [
  {
   "cell_type": "code",
   "execution_count": 1,
   "id": "f64fddea",
   "metadata": {
    "_cell_guid": "b1076dfc-b9ad-4769-8c92-a6c4dae69d19",
    "_uuid": "8f2839f25d086af736a60e9eeb907d3b93b6e0e5",
    "execution": {
     "iopub.execute_input": "2024-01-19T03:11:48.194328Z",
     "iopub.status.busy": "2024-01-19T03:11:48.193879Z",
     "iopub.status.idle": "2024-01-19T03:11:51.318021Z",
     "shell.execute_reply": "2024-01-19T03:11:51.316822Z"
    },
    "papermill": {
     "duration": 3.137915,
     "end_time": "2024-01-19T03:11:51.321071",
     "exception": false,
     "start_time": "2024-01-19T03:11:48.183156",
     "status": "completed"
    },
    "tags": []
   },
   "outputs": [],
   "source": [
    "import numpy as np\n",
    "import pandas as pd\n",
    "import lightgbm as lgb\n",
    "from sklearn.model_selection import train_test_split\n",
    "from sklearn.metrics import roc_auc_score\n",
    "import matplotlib.pyplot as plt\n",
    "from sklearn.model_selection import StratifiedKFold\n",
    "from sklearn.feature_extraction.text import TfidfVectorizer\n",
    "from sklearn.decomposition import TruncatedSVD\n",
    "import warnings\n",
    "warnings.filterwarnings(\"ignore\")"
   ]
  },
  {
   "cell_type": "markdown",
   "id": "28592476",
   "metadata": {
    "papermill": {
     "duration": 0.008004,
     "end_time": "2024-01-19T03:11:51.337373",
     "exception": false,
     "start_time": "2024-01-19T03:11:51.329369",
     "status": "completed"
    },
    "tags": []
   },
   "source": [
    "## Parameters"
   ]
  },
  {
   "cell_type": "code",
   "execution_count": 2,
   "id": "0408f5e7",
   "metadata": {
    "execution": {
     "iopub.execute_input": "2024-01-19T03:11:51.355379Z",
     "iopub.status.busy": "2024-01-19T03:11:51.354913Z",
     "iopub.status.idle": "2024-01-19T03:11:51.360143Z",
     "shell.execute_reply": "2024-01-19T03:11:51.358950Z"
    },
    "papermill": {
     "duration": 0.017443,
     "end_time": "2024-01-19T03:11:51.362903",
     "exception": false,
     "start_time": "2024-01-19T03:11:51.345460",
     "status": "completed"
    },
    "tags": []
   },
   "outputs": [],
   "source": [
    "RAND_VAL=42\n",
    "num_folds=7 ## Number of folds\n",
    "n_est=5000 ## Number of estimators"
   ]
  },
  {
   "cell_type": "markdown",
   "id": "4523598b",
   "metadata": {
    "papermill": {
     "duration": 0.007806,
     "end_time": "2024-01-19T03:11:51.379065",
     "exception": false,
     "start_time": "2024-01-19T03:11:51.371259",
     "status": "completed"
    },
    "tags": []
   },
   "source": [
    "## Read Train and Test Files"
   ]
  },
  {
   "cell_type": "code",
   "execution_count": 3,
   "id": "8abe93fb",
   "metadata": {
    "execution": {
     "iopub.execute_input": "2024-01-19T03:11:51.398221Z",
     "iopub.status.busy": "2024-01-19T03:11:51.397784Z",
     "iopub.status.idle": "2024-01-19T03:11:51.888262Z",
     "shell.execute_reply": "2024-01-19T03:11:51.887304Z"
    },
    "papermill": {
     "duration": 0.502333,
     "end_time": "2024-01-19T03:11:51.890580",
     "exception": false,
     "start_time": "2024-01-19T03:11:51.388247",
     "status": "completed"
    },
    "tags": []
   },
   "outputs": [
    {
     "data": {
      "text/html": [
       "<div>\n",
       "<style scoped>\n",
       "    .dataframe tbody tr th:only-of-type {\n",
       "        vertical-align: middle;\n",
       "    }\n",
       "\n",
       "    .dataframe tbody tr th {\n",
       "        vertical-align: top;\n",
       "    }\n",
       "\n",
       "    .dataframe thead th {\n",
       "        text-align: right;\n",
       "    }\n",
       "</style>\n",
       "<table border=\"1\" class=\"dataframe\">\n",
       "  <thead>\n",
       "    <tr style=\"text-align: right;\">\n",
       "      <th></th>\n",
       "      <th>id</th>\n",
       "      <th>CustomerId</th>\n",
       "      <th>Surname</th>\n",
       "      <th>CreditScore</th>\n",
       "      <th>Geography</th>\n",
       "      <th>Gender</th>\n",
       "      <th>Age</th>\n",
       "      <th>Tenure</th>\n",
       "      <th>Balance</th>\n",
       "      <th>NumOfProducts</th>\n",
       "      <th>HasCrCard</th>\n",
       "      <th>IsActiveMember</th>\n",
       "      <th>EstimatedSalary</th>\n",
       "      <th>Exited</th>\n",
       "    </tr>\n",
       "  </thead>\n",
       "  <tbody>\n",
       "    <tr>\n",
       "      <th>0</th>\n",
       "      <td>0</td>\n",
       "      <td>15674932</td>\n",
       "      <td>Okwudilichukwu</td>\n",
       "      <td>668</td>\n",
       "      <td>France</td>\n",
       "      <td>Male</td>\n",
       "      <td>33.0</td>\n",
       "      <td>3</td>\n",
       "      <td>0.00</td>\n",
       "      <td>2</td>\n",
       "      <td>1.0</td>\n",
       "      <td>0.0</td>\n",
       "      <td>181449.97</td>\n",
       "      <td>0</td>\n",
       "    </tr>\n",
       "    <tr>\n",
       "      <th>1</th>\n",
       "      <td>1</td>\n",
       "      <td>15749177</td>\n",
       "      <td>Okwudiliolisa</td>\n",
       "      <td>627</td>\n",
       "      <td>France</td>\n",
       "      <td>Male</td>\n",
       "      <td>33.0</td>\n",
       "      <td>1</td>\n",
       "      <td>0.00</td>\n",
       "      <td>2</td>\n",
       "      <td>1.0</td>\n",
       "      <td>1.0</td>\n",
       "      <td>49503.50</td>\n",
       "      <td>0</td>\n",
       "    </tr>\n",
       "    <tr>\n",
       "      <th>2</th>\n",
       "      <td>2</td>\n",
       "      <td>15694510</td>\n",
       "      <td>Hsueh</td>\n",
       "      <td>678</td>\n",
       "      <td>France</td>\n",
       "      <td>Male</td>\n",
       "      <td>40.0</td>\n",
       "      <td>10</td>\n",
       "      <td>0.00</td>\n",
       "      <td>2</td>\n",
       "      <td>1.0</td>\n",
       "      <td>0.0</td>\n",
       "      <td>184866.69</td>\n",
       "      <td>0</td>\n",
       "    </tr>\n",
       "    <tr>\n",
       "      <th>3</th>\n",
       "      <td>3</td>\n",
       "      <td>15741417</td>\n",
       "      <td>Kao</td>\n",
       "      <td>581</td>\n",
       "      <td>France</td>\n",
       "      <td>Male</td>\n",
       "      <td>34.0</td>\n",
       "      <td>2</td>\n",
       "      <td>148882.54</td>\n",
       "      <td>1</td>\n",
       "      <td>1.0</td>\n",
       "      <td>1.0</td>\n",
       "      <td>84560.88</td>\n",
       "      <td>0</td>\n",
       "    </tr>\n",
       "    <tr>\n",
       "      <th>4</th>\n",
       "      <td>4</td>\n",
       "      <td>15766172</td>\n",
       "      <td>Chiemenam</td>\n",
       "      <td>716</td>\n",
       "      <td>Spain</td>\n",
       "      <td>Male</td>\n",
       "      <td>33.0</td>\n",
       "      <td>5</td>\n",
       "      <td>0.00</td>\n",
       "      <td>2</td>\n",
       "      <td>1.0</td>\n",
       "      <td>1.0</td>\n",
       "      <td>15068.83</td>\n",
       "      <td>0</td>\n",
       "    </tr>\n",
       "  </tbody>\n",
       "</table>\n",
       "</div>"
      ],
      "text/plain": [
       "   id  CustomerId         Surname  CreditScore Geography Gender   Age  Tenure  \\\n",
       "0   0    15674932  Okwudilichukwu          668    France   Male  33.0       3   \n",
       "1   1    15749177   Okwudiliolisa          627    France   Male  33.0       1   \n",
       "2   2    15694510           Hsueh          678    France   Male  40.0      10   \n",
       "3   3    15741417             Kao          581    France   Male  34.0       2   \n",
       "4   4    15766172       Chiemenam          716     Spain   Male  33.0       5   \n",
       "\n",
       "     Balance  NumOfProducts  HasCrCard  IsActiveMember  EstimatedSalary  \\\n",
       "0       0.00              2        1.0             0.0        181449.97   \n",
       "1       0.00              2        1.0             1.0         49503.50   \n",
       "2       0.00              2        1.0             0.0        184866.69   \n",
       "3  148882.54              1        1.0             1.0         84560.88   \n",
       "4       0.00              2        1.0             1.0         15068.83   \n",
       "\n",
       "   Exited  \n",
       "0       0  \n",
       "1       0  \n",
       "2       0  \n",
       "3       0  \n",
       "4       0  "
      ]
     },
     "execution_count": 3,
     "metadata": {},
     "output_type": "execute_result"
    }
   ],
   "source": [
    "df_train = pd.read_csv('/bank_churn/playground-series-s4e1/train.csv')\n",
    "df_train.head()"
   ]
  },
  {
   "cell_type": "code",
   "execution_count": 4,
   "id": "648e28b3",
   "metadata": {
    "execution": {
     "iopub.execute_input": "2024-01-19T03:11:51.909383Z",
     "iopub.status.busy": "2024-01-19T03:11:51.908936Z",
     "iopub.status.idle": "2024-01-19T03:11:52.188628Z",
     "shell.execute_reply": "2024-01-19T03:11:52.187378Z"
    },
    "papermill": {
     "duration": 0.292455,
     "end_time": "2024-01-19T03:11:52.191542",
     "exception": false,
     "start_time": "2024-01-19T03:11:51.899087",
     "status": "completed"
    },
    "tags": []
   },
   "outputs": [
    {
     "data": {
      "text/html": [
       "<div>\n",
       "<style scoped>\n",
       "    .dataframe tbody tr th:only-of-type {\n",
       "        vertical-align: middle;\n",
       "    }\n",
       "\n",
       "    .dataframe tbody tr th {\n",
       "        vertical-align: top;\n",
       "    }\n",
       "\n",
       "    .dataframe thead th {\n",
       "        text-align: right;\n",
       "    }\n",
       "</style>\n",
       "<table border=\"1\" class=\"dataframe\">\n",
       "  <thead>\n",
       "    <tr style=\"text-align: right;\">\n",
       "      <th></th>\n",
       "      <th>id</th>\n",
       "      <th>CustomerId</th>\n",
       "      <th>Surname</th>\n",
       "      <th>CreditScore</th>\n",
       "      <th>Geography</th>\n",
       "      <th>Gender</th>\n",
       "      <th>Age</th>\n",
       "      <th>Tenure</th>\n",
       "      <th>Balance</th>\n",
       "      <th>NumOfProducts</th>\n",
       "      <th>HasCrCard</th>\n",
       "      <th>IsActiveMember</th>\n",
       "      <th>EstimatedSalary</th>\n",
       "    </tr>\n",
       "  </thead>\n",
       "  <tbody>\n",
       "    <tr>\n",
       "      <th>0</th>\n",
       "      <td>165034</td>\n",
       "      <td>15773898</td>\n",
       "      <td>Lucchese</td>\n",
       "      <td>586</td>\n",
       "      <td>France</td>\n",
       "      <td>Female</td>\n",
       "      <td>23.0</td>\n",
       "      <td>2</td>\n",
       "      <td>0.00</td>\n",
       "      <td>2</td>\n",
       "      <td>0.0</td>\n",
       "      <td>1.0</td>\n",
       "      <td>160976.75</td>\n",
       "    </tr>\n",
       "    <tr>\n",
       "      <th>1</th>\n",
       "      <td>165035</td>\n",
       "      <td>15782418</td>\n",
       "      <td>Nott</td>\n",
       "      <td>683</td>\n",
       "      <td>France</td>\n",
       "      <td>Female</td>\n",
       "      <td>46.0</td>\n",
       "      <td>2</td>\n",
       "      <td>0.00</td>\n",
       "      <td>1</td>\n",
       "      <td>1.0</td>\n",
       "      <td>0.0</td>\n",
       "      <td>72549.27</td>\n",
       "    </tr>\n",
       "    <tr>\n",
       "      <th>2</th>\n",
       "      <td>165036</td>\n",
       "      <td>15807120</td>\n",
       "      <td>K?</td>\n",
       "      <td>656</td>\n",
       "      <td>France</td>\n",
       "      <td>Female</td>\n",
       "      <td>34.0</td>\n",
       "      <td>7</td>\n",
       "      <td>0.00</td>\n",
       "      <td>2</td>\n",
       "      <td>1.0</td>\n",
       "      <td>0.0</td>\n",
       "      <td>138882.09</td>\n",
       "    </tr>\n",
       "    <tr>\n",
       "      <th>3</th>\n",
       "      <td>165037</td>\n",
       "      <td>15808905</td>\n",
       "      <td>O'Donnell</td>\n",
       "      <td>681</td>\n",
       "      <td>France</td>\n",
       "      <td>Male</td>\n",
       "      <td>36.0</td>\n",
       "      <td>8</td>\n",
       "      <td>0.00</td>\n",
       "      <td>1</td>\n",
       "      <td>1.0</td>\n",
       "      <td>0.0</td>\n",
       "      <td>113931.57</td>\n",
       "    </tr>\n",
       "    <tr>\n",
       "      <th>4</th>\n",
       "      <td>165038</td>\n",
       "      <td>15607314</td>\n",
       "      <td>Higgins</td>\n",
       "      <td>752</td>\n",
       "      <td>Germany</td>\n",
       "      <td>Male</td>\n",
       "      <td>38.0</td>\n",
       "      <td>10</td>\n",
       "      <td>121263.62</td>\n",
       "      <td>1</td>\n",
       "      <td>1.0</td>\n",
       "      <td>0.0</td>\n",
       "      <td>139431.00</td>\n",
       "    </tr>\n",
       "  </tbody>\n",
       "</table>\n",
       "</div>"
      ],
      "text/plain": [
       "       id  CustomerId    Surname  CreditScore Geography  Gender   Age  Tenure  \\\n",
       "0  165034    15773898   Lucchese          586    France  Female  23.0       2   \n",
       "1  165035    15782418       Nott          683    France  Female  46.0       2   \n",
       "2  165036    15807120         K?          656    France  Female  34.0       7   \n",
       "3  165037    15808905  O'Donnell          681    France    Male  36.0       8   \n",
       "4  165038    15607314    Higgins          752   Germany    Male  38.0      10   \n",
       "\n",
       "     Balance  NumOfProducts  HasCrCard  IsActiveMember  EstimatedSalary  \n",
       "0       0.00              2        0.0             1.0        160976.75  \n",
       "1       0.00              1        1.0             0.0         72549.27  \n",
       "2       0.00              2        1.0             0.0        138882.09  \n",
       "3       0.00              1        1.0             0.0        113931.57  \n",
       "4  121263.62              1        1.0             0.0        139431.00  "
      ]
     },
     "execution_count": 4,
     "metadata": {},
     "output_type": "execute_result"
    }
   ],
   "source": [
    "df_test = pd.read_csv('bank_churn/playground-series-s4e1/test.csv')\n",
    "df_test.head()"
   ]
  },
  {
   "cell_type": "markdown",
   "id": "4fe0d69e",
   "metadata": {
    "papermill": {
     "duration": 0.008737,
     "end_time": "2024-01-19T03:11:52.209390",
     "exception": false,
     "start_time": "2024-01-19T03:11:52.200653",
     "status": "completed"
    },
    "tags": []
   },
   "source": [
    "## Scaling"
   ]
  },
  {
   "cell_type": "code",
   "execution_count": 5,
   "id": "81033500",
   "metadata": {
    "execution": {
     "iopub.execute_input": "2024-01-19T03:11:52.228914Z",
     "iopub.status.busy": "2024-01-19T03:11:52.228493Z",
     "iopub.status.idle": "2024-01-19T03:11:52.254326Z",
     "shell.execute_reply": "2024-01-19T03:11:52.253035Z"
    },
    "papermill": {
     "duration": 0.038971,
     "end_time": "2024-01-19T03:11:52.257305",
     "exception": false,
     "start_time": "2024-01-19T03:11:52.218334",
     "status": "completed"
    },
    "tags": []
   },
   "outputs": [],
   "source": [
    "scale_cols = ['Age','CreditScore', 'Balance','EstimatedSalary']\n",
    "###\n",
    "for c in scale_cols:\n",
    "    min_value = df_train[c].min()\n",
    "    max_value = df_train[c].max()\n",
    "    df_train[c+\"_scaled\"] = (df_train[c] - min_value) / (max_value - min_value)\n",
    "    df_test[c+\"_scaled\"] = (df_test[c] - min_value) / (max_value - min_value)"
   ]
  },
  {
   "cell_type": "markdown",
   "id": "063fb615",
   "metadata": {
    "papermill": {
     "duration": 0.008564,
     "end_time": "2024-01-19T03:11:52.274712",
     "exception": false,
     "start_time": "2024-01-19T03:11:52.266148",
     "status": "completed"
    },
    "tags": []
   },
   "source": [
    "## TF-IDF Vectorization for Surname\n"
   ]
  },
  {
   "cell_type": "code",
   "execution_count": 6,
   "id": "53aaeea5",
   "metadata": {
    "execution": {
     "iopub.execute_input": "2024-01-19T03:11:52.294094Z",
     "iopub.status.busy": "2024-01-19T03:11:52.293646Z",
     "iopub.status.idle": "2024-01-19T03:11:54.749133Z",
     "shell.execute_reply": "2024-01-19T03:11:54.747778Z"
    },
    "papermill": {
     "duration": 2.469089,
     "end_time": "2024-01-19T03:11:54.752603",
     "exception": false,
     "start_time": "2024-01-19T03:11:52.283514",
     "status": "completed"
    },
    "tags": []
   },
   "outputs": [],
   "source": [
    "vectorizer = TfidfVectorizer(max_features=1000)\n",
    "vectors_train = vectorizer.fit_transform(df_train['Surname'])\n",
    "vectors_test = vectorizer.transform(df_test['Surname'])\n",
    "#\n",
    "svd = TruncatedSVD(3)\n",
    "x_pca_train = svd.fit_transform(vectors_train)\n",
    "x_pca_test = svd.transform(vectors_test)\n",
    "\n",
    "# Convert to DataFrames\n",
    "tfidf_df_train = pd.DataFrame(x_pca_train)\n",
    "tfidf_df_test = pd.DataFrame(x_pca_test)\n",
    "\n",
    "# Naming columns in the new DataFrames\n",
    "cols = [('Surname' + \"_tfidf_\" + str(f)) for f in tfidf_df_train.columns.to_list()]\n",
    "tfidf_df_train.columns = cols\n",
    "tfidf_df_test.columns = cols\n",
    "    \n",
    "# Reset the index of the DataFrames before concatenation\n",
    "df_train = df_train.reset_index(drop=True)\n",
    "df_test = df_test.reset_index(drop=True)\n",
    "\n",
    "# Concatenate transformed features with original data\n",
    "df_train = pd.concat([df_train, tfidf_df_train], axis=\"columns\")\n",
    "df_test = pd.concat([df_test, tfidf_df_test], axis=\"columns\")"
   ]
  },
  {
   "cell_type": "markdown",
   "id": "18a07437",
   "metadata": {
    "papermill": {
     "duration": 0.012977,
     "end_time": "2024-01-19T03:11:54.776554",
     "exception": false,
     "start_time": "2024-01-19T03:11:54.763577",
     "status": "completed"
    },
    "tags": []
   },
   "source": [
    "## Feature Engineering"
   ]
  },
  {
   "cell_type": "code",
   "execution_count": 7,
   "id": "c8850740",
   "metadata": {
    "execution": {
     "iopub.execute_input": "2024-01-19T03:11:54.797520Z",
     "iopub.status.busy": "2024-01-19T03:11:54.797000Z",
     "iopub.status.idle": "2024-01-19T03:11:54.807150Z",
     "shell.execute_reply": "2024-01-19T03:11:54.805895Z"
    },
    "papermill": {
     "duration": 0.023712,
     "end_time": "2024-01-19T03:11:54.809642",
     "exception": false,
     "start_time": "2024-01-19T03:11:54.785930",
     "status": "completed"
    },
    "tags": []
   },
   "outputs": [],
   "source": [
    "def getFeats(df):\n",
    "    \n",
    "    df['IsSenior'] = df['Age'].apply(lambda x: 1 if x >= 60 else 0)\n",
    "    df['IsActive_by_CreditCard'] = df['HasCrCard'] * df['IsActiveMember']\n",
    "    df['Products_Per_Tenure'] =  df['Tenure'] / df['NumOfProducts']\n",
    "    df['len_SurName'] = df['Surname'].apply(lambda x: len(x))\n",
    "    df['AgeCat'] = np.round(df.Age/20).astype('int').astype('category')\n",
    "    df['NP_Gender'] = df['NumOfProducts'].astype('str') + df['Gender']\n",
    "    \n",
    "    cat_cols = ['Geography', 'Gender', 'NumOfProducts','AgeCat','NP_Gender']\n",
    "    df=pd.get_dummies(df,columns=cat_cols)\n",
    "    return df"
   ]
  },
  {
   "cell_type": "code",
   "execution_count": 8,
   "id": "9a5d68db",
   "metadata": {
    "execution": {
     "iopub.execute_input": "2024-01-19T03:11:54.829777Z",
     "iopub.status.busy": "2024-01-19T03:11:54.828986Z",
     "iopub.status.idle": "2024-01-19T03:11:55.760305Z",
     "shell.execute_reply": "2024-01-19T03:11:55.759178Z"
    },
    "papermill": {
     "duration": 0.944206,
     "end_time": "2024-01-19T03:11:55.762697",
     "exception": false,
     "start_time": "2024-01-19T03:11:54.818491",
     "status": "completed"
    },
    "tags": []
   },
   "outputs": [
    {
     "name": "stdout",
     "output_type": "stream",
     "text": [
      "Index(['Tenure', 'HasCrCard', 'IsActiveMember', 'Age_scaled',\n",
      "       'CreditScore_scaled', 'Balance_scaled', 'EstimatedSalary_scaled',\n",
      "       'Surname_tfidf_0', 'Surname_tfidf_1', 'Surname_tfidf_2', 'IsSenior',\n",
      "       'IsActive_by_CreditCard', 'Products_Per_Tenure', 'len_SurName',\n",
      "       'Geography_France', 'Geography_Germany', 'Geography_Spain',\n",
      "       'Gender_Female', 'Gender_Male', 'NumOfProducts_1', 'NumOfProducts_2',\n",
      "       'NumOfProducts_3', 'NumOfProducts_4', 'AgeCat_1', 'AgeCat_2',\n",
      "       'AgeCat_3', 'AgeCat_4', 'AgeCat_5', 'NP_Gender_1Female',\n",
      "       'NP_Gender_1Male', 'NP_Gender_2Female', 'NP_Gender_2Male',\n",
      "       'NP_Gender_3Female', 'NP_Gender_3Male', 'NP_Gender_4Female',\n",
      "       'NP_Gender_4Male'],\n",
      "      dtype='object')\n"
     ]
    },
    {
     "data": {
      "text/html": [
       "<div>\n",
       "<style scoped>\n",
       "    .dataframe tbody tr th:only-of-type {\n",
       "        vertical-align: middle;\n",
       "    }\n",
       "\n",
       "    .dataframe tbody tr th {\n",
       "        vertical-align: top;\n",
       "    }\n",
       "\n",
       "    .dataframe thead th {\n",
       "        text-align: right;\n",
       "    }\n",
       "</style>\n",
       "<table border=\"1\" class=\"dataframe\">\n",
       "  <thead>\n",
       "    <tr style=\"text-align: right;\">\n",
       "      <th></th>\n",
       "      <th>id</th>\n",
       "      <th>CustomerId</th>\n",
       "      <th>Surname</th>\n",
       "      <th>CreditScore</th>\n",
       "      <th>Age</th>\n",
       "      <th>Tenure</th>\n",
       "      <th>Balance</th>\n",
       "      <th>HasCrCard</th>\n",
       "      <th>IsActiveMember</th>\n",
       "      <th>EstimatedSalary</th>\n",
       "      <th>...</th>\n",
       "      <th>AgeCat_4</th>\n",
       "      <th>AgeCat_5</th>\n",
       "      <th>NP_Gender_1Female</th>\n",
       "      <th>NP_Gender_1Male</th>\n",
       "      <th>NP_Gender_2Female</th>\n",
       "      <th>NP_Gender_2Male</th>\n",
       "      <th>NP_Gender_3Female</th>\n",
       "      <th>NP_Gender_3Male</th>\n",
       "      <th>NP_Gender_4Female</th>\n",
       "      <th>NP_Gender_4Male</th>\n",
       "    </tr>\n",
       "  </thead>\n",
       "  <tbody>\n",
       "    <tr>\n",
       "      <th>0</th>\n",
       "      <td>0</td>\n",
       "      <td>15674932</td>\n",
       "      <td>Okwudilichukwu</td>\n",
       "      <td>668</td>\n",
       "      <td>33.0</td>\n",
       "      <td>3</td>\n",
       "      <td>0.00</td>\n",
       "      <td>1.0</td>\n",
       "      <td>0.0</td>\n",
       "      <td>181449.97</td>\n",
       "      <td>...</td>\n",
       "      <td>False</td>\n",
       "      <td>False</td>\n",
       "      <td>False</td>\n",
       "      <td>False</td>\n",
       "      <td>False</td>\n",
       "      <td>True</td>\n",
       "      <td>False</td>\n",
       "      <td>False</td>\n",
       "      <td>False</td>\n",
       "      <td>False</td>\n",
       "    </tr>\n",
       "    <tr>\n",
       "      <th>1</th>\n",
       "      <td>1</td>\n",
       "      <td>15749177</td>\n",
       "      <td>Okwudiliolisa</td>\n",
       "      <td>627</td>\n",
       "      <td>33.0</td>\n",
       "      <td>1</td>\n",
       "      <td>0.00</td>\n",
       "      <td>1.0</td>\n",
       "      <td>1.0</td>\n",
       "      <td>49503.50</td>\n",
       "      <td>...</td>\n",
       "      <td>False</td>\n",
       "      <td>False</td>\n",
       "      <td>False</td>\n",
       "      <td>False</td>\n",
       "      <td>False</td>\n",
       "      <td>True</td>\n",
       "      <td>False</td>\n",
       "      <td>False</td>\n",
       "      <td>False</td>\n",
       "      <td>False</td>\n",
       "    </tr>\n",
       "    <tr>\n",
       "      <th>2</th>\n",
       "      <td>2</td>\n",
       "      <td>15694510</td>\n",
       "      <td>Hsueh</td>\n",
       "      <td>678</td>\n",
       "      <td>40.0</td>\n",
       "      <td>10</td>\n",
       "      <td>0.00</td>\n",
       "      <td>1.0</td>\n",
       "      <td>0.0</td>\n",
       "      <td>184866.69</td>\n",
       "      <td>...</td>\n",
       "      <td>False</td>\n",
       "      <td>False</td>\n",
       "      <td>False</td>\n",
       "      <td>False</td>\n",
       "      <td>False</td>\n",
       "      <td>True</td>\n",
       "      <td>False</td>\n",
       "      <td>False</td>\n",
       "      <td>False</td>\n",
       "      <td>False</td>\n",
       "    </tr>\n",
       "    <tr>\n",
       "      <th>3</th>\n",
       "      <td>3</td>\n",
       "      <td>15741417</td>\n",
       "      <td>Kao</td>\n",
       "      <td>581</td>\n",
       "      <td>34.0</td>\n",
       "      <td>2</td>\n",
       "      <td>148882.54</td>\n",
       "      <td>1.0</td>\n",
       "      <td>1.0</td>\n",
       "      <td>84560.88</td>\n",
       "      <td>...</td>\n",
       "      <td>False</td>\n",
       "      <td>False</td>\n",
       "      <td>False</td>\n",
       "      <td>True</td>\n",
       "      <td>False</td>\n",
       "      <td>False</td>\n",
       "      <td>False</td>\n",
       "      <td>False</td>\n",
       "      <td>False</td>\n",
       "      <td>False</td>\n",
       "    </tr>\n",
       "    <tr>\n",
       "      <th>4</th>\n",
       "      <td>4</td>\n",
       "      <td>15766172</td>\n",
       "      <td>Chiemenam</td>\n",
       "      <td>716</td>\n",
       "      <td>33.0</td>\n",
       "      <td>5</td>\n",
       "      <td>0.00</td>\n",
       "      <td>1.0</td>\n",
       "      <td>1.0</td>\n",
       "      <td>15068.83</td>\n",
       "      <td>...</td>\n",
       "      <td>False</td>\n",
       "      <td>False</td>\n",
       "      <td>False</td>\n",
       "      <td>False</td>\n",
       "      <td>False</td>\n",
       "      <td>True</td>\n",
       "      <td>False</td>\n",
       "      <td>False</td>\n",
       "      <td>False</td>\n",
       "      <td>False</td>\n",
       "    </tr>\n",
       "  </tbody>\n",
       "</table>\n",
       "<p>5 rows × 44 columns</p>\n",
       "</div>"
      ],
      "text/plain": [
       "   id  CustomerId         Surname  CreditScore   Age  Tenure    Balance  \\\n",
       "0   0    15674932  Okwudilichukwu          668  33.0       3       0.00   \n",
       "1   1    15749177   Okwudiliolisa          627  33.0       1       0.00   \n",
       "2   2    15694510           Hsueh          678  40.0      10       0.00   \n",
       "3   3    15741417             Kao          581  34.0       2  148882.54   \n",
       "4   4    15766172       Chiemenam          716  33.0       5       0.00   \n",
       "\n",
       "   HasCrCard  IsActiveMember  EstimatedSalary  ...  AgeCat_4  AgeCat_5  \\\n",
       "0        1.0             0.0        181449.97  ...     False     False   \n",
       "1        1.0             1.0         49503.50  ...     False     False   \n",
       "2        1.0             0.0        184866.69  ...     False     False   \n",
       "3        1.0             1.0         84560.88  ...     False     False   \n",
       "4        1.0             1.0         15068.83  ...     False     False   \n",
       "\n",
       "   NP_Gender_1Female  NP_Gender_1Male  NP_Gender_2Female  NP_Gender_2Male  \\\n",
       "0              False            False              False             True   \n",
       "1              False            False              False             True   \n",
       "2              False            False              False             True   \n",
       "3              False             True              False            False   \n",
       "4              False            False              False             True   \n",
       "\n",
       "   NP_Gender_3Female  NP_Gender_3Male  NP_Gender_4Female  NP_Gender_4Male  \n",
       "0              False            False              False            False  \n",
       "1              False            False              False            False  \n",
       "2              False            False              False            False  \n",
       "3              False            False              False            False  \n",
       "4              False            False              False            False  \n",
       "\n",
       "[5 rows x 44 columns]"
      ]
     },
     "execution_count": 8,
     "metadata": {},
     "output_type": "execute_result"
    }
   ],
   "source": [
    "df_train = getFeats(df_train)\n",
    "df_test = getFeats(df_test)\n",
    "##\n",
    "feat_cols=df_train.columns.drop(['id', 'CustomerId', 'Surname','Exited'])\n",
    "feat_cols=feat_cols.drop(scale_cols)\n",
    "\n",
    "print(feat_cols)\n",
    "df_train.head()"
   ]
  },
  {
   "cell_type": "code",
   "execution_count": 9,
   "id": "f7d2ac1f",
   "metadata": {
    "execution": {
     "iopub.execute_input": "2024-01-19T03:11:55.783941Z",
     "iopub.status.busy": "2024-01-19T03:11:55.783494Z",
     "iopub.status.idle": "2024-01-19T03:11:55.797640Z",
     "shell.execute_reply": "2024-01-19T03:11:55.796548Z"
    },
    "papermill": {
     "duration": 0.027647,
     "end_time": "2024-01-19T03:11:55.800148",
     "exception": false,
     "start_time": "2024-01-19T03:11:55.772501",
     "status": "completed"
    },
    "tags": []
   },
   "outputs": [],
   "source": [
    "X=df_train[feat_cols]\n",
    "y=df_train['Exited']"
   ]
  },
  {
   "cell_type": "markdown",
   "id": "88661202",
   "metadata": {
    "papermill": {
     "duration": 0.0091,
     "end_time": "2024-01-19T03:11:55.819448",
     "exception": false,
     "start_time": "2024-01-19T03:11:55.810348",
     "status": "completed"
    },
    "tags": []
   },
   "source": [
    "## Parameters"
   ]
  },
  {
   "cell_type": "code",
   "execution_count": 10,
   "id": "29014b59",
   "metadata": {
    "execution": {
     "iopub.execute_input": "2024-01-19T03:11:55.840333Z",
     "iopub.status.busy": "2024-01-19T03:11:55.839873Z",
     "iopub.status.idle": "2024-01-19T03:11:55.846111Z",
     "shell.execute_reply": "2024-01-19T03:11:55.845085Z"
    },
    "papermill": {
     "duration": 0.01981,
     "end_time": "2024-01-19T03:11:55.848633",
     "exception": false,
     "start_time": "2024-01-19T03:11:55.828823",
     "status": "completed"
    },
    "tags": []
   },
   "outputs": [],
   "source": [
    "lgbParams = {'n_estimators': n_est,\n",
    " 'max_depth': 23,\n",
    " 'learning_rate': 0.02,\n",
    " 'min_child_weight': 1.4,\n",
    " 'min_child_samples': 188,\n",
    " 'subsample': 0.72,\n",
    " 'subsample_freq': 2,\n",
    " 'colsample_bytree': 0.42,\n",
    " 'random_state': RAND_VAL,\n",
    " 'num_leaves': 19}"
   ]
  },
  {
   "cell_type": "markdown",
   "id": "ee1b8567",
   "metadata": {
    "papermill": {
     "duration": 0.009543,
     "end_time": "2024-01-19T03:11:55.867697",
     "exception": false,
     "start_time": "2024-01-19T03:11:55.858154",
     "status": "completed"
    },
    "tags": []
   },
   "source": [
    "## Feature Importance"
   ]
  },
  {
   "cell_type": "code",
   "execution_count": 11,
   "id": "d90e3e49",
   "metadata": {
    "execution": {
     "iopub.execute_input": "2024-01-19T03:11:55.889406Z",
     "iopub.status.busy": "2024-01-19T03:11:55.888201Z",
     "iopub.status.idle": "2024-01-19T03:13:23.461947Z",
     "shell.execute_reply": "2024-01-19T03:13:23.460848Z"
    },
    "papermill": {
     "duration": 87.598008,
     "end_time": "2024-01-19T03:13:23.474960",
     "exception": false,
     "start_time": "2024-01-19T03:11:55.876952",
     "status": "completed"
    },
    "tags": []
   },
   "outputs": [
    {
     "data": {
      "image/png": "[encoded data removed]",
      "text/plain": [
       "<Figure size 1200x1000 with 1 Axes>"
      ]
     },
     "metadata": {},
     "output_type": "display_data"
    }
   ],
   "source": [
    "LGB=lgb.LGBMClassifier(**lgbParams)\n",
    "LGB.fit(X,y)\n",
    "lgb.plot_importance(LGB, importance_type=\"gain\", figsize=(12,10), max_num_features=12,\n",
    "                    title=\"LightGBM Feature Importance (Gain)\")\n",
    "plt.show()"
   ]
  },
  {
   "cell_type": "markdown",
   "id": "509d759a",
   "metadata": {
    "papermill": {
     "duration": 0.010392,
     "end_time": "2024-01-19T03:13:23.496069",
     "exception": false,
     "start_time": "2024-01-19T03:13:23.485677",
     "status": "completed"
    },
    "tags": []
   },
   "source": [
    "## Training"
   ]
  },
  {
   "cell_type": "code",
   "execution_count": 12,
   "id": "a79563fb",
   "metadata": {
    "execution": {
     "iopub.execute_input": "2024-01-19T03:13:23.518926Z",
     "iopub.status.busy": "2024-01-19T03:13:23.518535Z",
     "iopub.status.idle": "2024-01-19T03:18:37.109972Z",
     "shell.execute_reply": "2024-01-19T03:18:37.108705Z"
    },
    "papermill": {
     "duration": 313.605818,
     "end_time": "2024-01-19T03:18:37.112661",
     "exception": false,
     "start_time": "2024-01-19T03:13:23.506843",
     "status": "completed"
    },
    "tags": []
   },
   "outputs": [
    {
     "name": "stdout",
     "output_type": "stream",
     "text": [
      "[200]\tvalid_0's auc: 0.888056\tvalid_0's binary_logloss: 0.326392\n",
      "[400]\tvalid_0's auc: 0.891092\tvalid_0's binary_logloss: 0.319714\n",
      "[600]\tvalid_0's auc: 0.892377\tvalid_0's binary_logloss: 0.317675\n",
      "[800]\tvalid_0's auc: 0.893108\tvalid_0's binary_logloss: 0.31653\n",
      "[1000]\tvalid_0's auc: 0.893532\tvalid_0's binary_logloss: 0.31591\n",
      "[1200]\tvalid_0's auc: 0.893745\tvalid_0's binary_logloss: 0.315509\n",
      "[1400]\tvalid_0's auc: 0.893807\tvalid_0's binary_logloss: 0.315303\n",
      "AUC for fold  0 :  0.8938144928095091\n",
      "----------------\n",
      "[200]\tvalid_0's auc: 0.887851\tvalid_0's binary_logloss: 0.32488\n",
      "[400]\tvalid_0's auc: 0.891373\tvalid_0's binary_logloss: 0.317281\n",
      "[600]\tvalid_0's auc: 0.892959\tvalid_0's binary_logloss: 0.314706\n",
      "[800]\tvalid_0's auc: 0.893872\tvalid_0's binary_logloss: 0.31336\n",
      "[1000]\tvalid_0's auc: 0.894366\tvalid_0's binary_logloss: 0.312654\n",
      "[1200]\tvalid_0's auc: 0.894639\tvalid_0's binary_logloss: 0.312233\n",
      "[1400]\tvalid_0's auc: 0.894888\tvalid_0's binary_logloss: 0.311857\n",
      "[1600]\tvalid_0's auc: 0.895071\tvalid_0's binary_logloss: 0.311577\n",
      "[1800]\tvalid_0's auc: 0.89524\tvalid_0's binary_logloss: 0.311291\n",
      "[2000]\tvalid_0's auc: 0.895401\tvalid_0's binary_logloss: 0.311091\n",
      "[2200]\tvalid_0's auc: 0.895477\tvalid_0's binary_logloss: 0.310965\n",
      "AUC for fold  1 :  0.8955023410012896\n",
      "----------------\n",
      "[200]\tvalid_0's auc: 0.887055\tvalid_0's binary_logloss: 0.325339\n",
      "[400]\tvalid_0's auc: 0.890161\tvalid_0's binary_logloss: 0.318825\n",
      "[600]\tvalid_0's auc: 0.891503\tvalid_0's binary_logloss: 0.316743\n",
      "[800]\tvalid_0's auc: 0.892225\tvalid_0's binary_logloss: 0.315708\n",
      "[1000]\tvalid_0's auc: 0.892727\tvalid_0's binary_logloss: 0.315017\n",
      "[1200]\tvalid_0's auc: 0.892955\tvalid_0's binary_logloss: 0.314654\n",
      "[1400]\tvalid_0's auc: 0.893162\tvalid_0's binary_logloss: 0.314388\n",
      "[1600]\tvalid_0's auc: 0.893261\tvalid_0's binary_logloss: 0.314254\n",
      "[1800]\tvalid_0's auc: 0.893424\tvalid_0's binary_logloss: 0.314057\n",
      "[2000]\tvalid_0's auc: 0.893507\tvalid_0's binary_logloss: 0.313948\n",
      "[2200]\tvalid_0's auc: 0.893527\tvalid_0's binary_logloss: 0.313925\n",
      "AUC for fold  2 :  0.8935363529669399\n",
      "----------------\n",
      "[200]\tvalid_0's auc: 0.890166\tvalid_0's binary_logloss: 0.322834\n",
      "[400]\tvalid_0's auc: 0.893692\tvalid_0's binary_logloss: 0.31534\n",
      "[600]\tvalid_0's auc: 0.895123\tvalid_0's binary_logloss: 0.313025\n",
      "[800]\tvalid_0's auc: 0.895901\tvalid_0's binary_logloss: 0.311853\n",
      "[1000]\tvalid_0's auc: 0.896293\tvalid_0's binary_logloss: 0.311243\n",
      "[1200]\tvalid_0's auc: 0.896605\tvalid_0's binary_logloss: 0.310733\n",
      "[1400]\tvalid_0's auc: 0.896762\tvalid_0's binary_logloss: 0.310463\n",
      "[1600]\tvalid_0's auc: 0.896923\tvalid_0's binary_logloss: 0.310222\n",
      "[1800]\tvalid_0's auc: 0.897137\tvalid_0's binary_logloss: 0.309952\n",
      "[2000]\tvalid_0's auc: 0.897214\tvalid_0's binary_logloss: 0.3098\n",
      "[2200]\tvalid_0's auc: 0.897305\tvalid_0's binary_logloss: 0.309667\n",
      "[2400]\tvalid_0's auc: 0.897384\tvalid_0's binary_logloss: 0.309557\n",
      "[2600]\tvalid_0's auc: 0.897411\tvalid_0's binary_logloss: 0.309481\n",
      "AUC for fold  3 :  0.8974432224599638\n",
      "----------------\n",
      "[200]\tvalid_0's auc: 0.888603\tvalid_0's binary_logloss: 0.32359\n",
      "[400]\tvalid_0's auc: 0.891587\tvalid_0's binary_logloss: 0.316822\n",
      "[600]\tvalid_0's auc: 0.893017\tvalid_0's binary_logloss: 0.314563\n",
      "[800]\tvalid_0's auc: 0.893836\tvalid_0's binary_logloss: 0.313365\n",
      "[1000]\tvalid_0's auc: 0.894359\tvalid_0's binary_logloss: 0.312586\n",
      "[1200]\tvalid_0's auc: 0.89456\tvalid_0's binary_logloss: 0.312273\n",
      "[1400]\tvalid_0's auc: 0.894692\tvalid_0's binary_logloss: 0.312048\n",
      "AUC for fold  4 :  0.8947380799873026\n",
      "----------------\n",
      "[200]\tvalid_0's auc: 0.888717\tvalid_0's binary_logloss: 0.324659\n",
      "[400]\tvalid_0's auc: 0.891981\tvalid_0's binary_logloss: 0.317689\n",
      "[600]\tvalid_0's auc: 0.893264\tvalid_0's binary_logloss: 0.315669\n",
      "[800]\tvalid_0's auc: 0.893944\tvalid_0's binary_logloss: 0.314601\n",
      "[1000]\tvalid_0's auc: 0.894359\tvalid_0's binary_logloss: 0.313962\n",
      "[1200]\tvalid_0's auc: 0.894642\tvalid_0's binary_logloss: 0.313556\n",
      "[1400]\tvalid_0's auc: 0.894799\tvalid_0's binary_logloss: 0.313309\n",
      "[1600]\tvalid_0's auc: 0.89493\tvalid_0's binary_logloss: 0.313145\n",
      "[1800]\tvalid_0's auc: 0.894972\tvalid_0's binary_logloss: 0.313043\n",
      "[2000]\tvalid_0's auc: 0.895041\tvalid_0's binary_logloss: 0.312897\n",
      "AUC for fold  5 :  0.895044904460443\n",
      "----------------\n",
      "[200]\tvalid_0's auc: 0.88696\tvalid_0's binary_logloss: 0.325024\n",
      "[400]\tvalid_0's auc: 0.890003\tvalid_0's binary_logloss: 0.318259\n",
      "[600]\tvalid_0's auc: 0.891266\tvalid_0's binary_logloss: 0.316146\n",
      "[800]\tvalid_0's auc: 0.891937\tvalid_0's binary_logloss: 0.315093\n",
      "[1000]\tvalid_0's auc: 0.892336\tvalid_0's binary_logloss: 0.314402\n",
      "[1200]\tvalid_0's auc: 0.892393\tvalid_0's binary_logloss: 0.314196\n",
      "AUC for fold  6 :  0.8924347073002689\n",
      "----------------\n"
     ]
    }
   ],
   "source": [
    "folds = StratifiedKFold(n_splits=num_folds,random_state=RAND_VAL,shuffle=True)\n",
    "test_preds = np.empty((num_folds, len(df_test)))\n",
    "auc_vals=[]\n",
    "\n",
    "for n_fold, (train_idx, valid_idx) in enumerate(folds.split(X, y)):\n",
    "    \n",
    "    X_train, y_train = X.iloc[train_idx], y.iloc[train_idx]\n",
    "    X_val, y_val = X.iloc[valid_idx], y.iloc[valid_idx]\n",
    "    \n",
    "    LGB=lgb.LGBMClassifier(**lgbParams)\n",
    "    LGB.fit(X_train, y_train,\n",
    "        eval_set=[(X_val, y_val)],\n",
    "        eval_metric='auc',\n",
    "        early_stopping_rounds=100,verbose=200)\n",
    "    \n",
    "    y_pred_val = LGB.predict_proba(X_val[feat_cols])[:,1]\n",
    "    auc_val = roc_auc_score(y_val, y_pred_val)\n",
    "    print(\"AUC for fold \",n_fold,\": \",auc_val)\n",
    "    auc_vals.append(auc_val)\n",
    "    \n",
    "    y_pred_test = LGB.predict_proba(df_test[feat_cols])[:,1]\n",
    "    test_preds[n_fold, :] = y_pred_test\n",
    "    print(\"----------------\")"
   ]
  },
  {
   "cell_type": "markdown",
   "id": "28bb6557",
   "metadata": {
    "papermill": {
     "duration": 0.017811,
     "end_time": "2024-01-19T03:18:37.149338",
     "exception": false,
     "start_time": "2024-01-19T03:18:37.131527",
     "status": "completed"
    },
    "tags": []
   },
   "source": [
    "## Evaluation"
   ]
  },
  {
   "cell_type": "code",
   "execution_count": 13,
   "id": "1674b1c8",
   "metadata": {
    "execution": {
     "iopub.execute_input": "2024-01-19T03:18:37.253746Z",
     "iopub.status.busy": "2024-01-19T03:18:37.252935Z",
     "iopub.status.idle": "2024-01-19T03:18:37.260495Z",
     "shell.execute_reply": "2024-01-19T03:18:37.259473Z"
    },
    "papermill": {
     "duration": 0.029887,
     "end_time": "2024-01-19T03:18:37.262939",
     "exception": false,
     "start_time": "2024-01-19T03:18:37.233052",
     "status": "completed"
    },
    "tags": []
   },
   "outputs": [
    {
     "data": {
      "text/plain": [
       "('Mean AUC: ', 0.894644871569388)"
      ]
     },
     "execution_count": 13,
     "metadata": {},
     "output_type": "execute_result"
    }
   ],
   "source": [
    "\"Mean AUC: \",np.mean(auc_vals)"
   ]
  },
  {
   "cell_type": "markdown",
   "id": "230869f2",
   "metadata": {
    "papermill": {
     "duration": 0.018651,
     "end_time": "2024-01-19T03:18:37.302696",
     "exception": false,
     "start_time": "2024-01-19T03:18:37.284045",
     "status": "completed"
    },
    "tags": []
   },
   "source": [
    "## Prediction "
   ]
  },
  {
   "cell_type": "code",
   "execution_count": 14,
   "id": "f99757d0",
   "metadata": {
    "execution": {
     "iopub.execute_input": "2024-01-19T03:18:37.342297Z",
     "iopub.status.busy": "2024-01-19T03:18:37.341684Z",
     "iopub.status.idle": "2024-01-19T03:18:37.355398Z",
     "shell.execute_reply": "2024-01-19T03:18:37.353996Z"
    },
    "papermill": {
     "duration": 0.0367,
     "end_time": "2024-01-19T03:18:37.358115",
     "exception": false,
     "start_time": "2024-01-19T03:18:37.321415",
     "status": "completed"
    },
    "tags": []
   },
   "outputs": [
    {
     "data": {
      "text/html": [
       "<div>\n",
       "<style scoped>\n",
       "    .dataframe tbody tr th:only-of-type {\n",
       "        vertical-align: middle;\n",
       "    }\n",
       "\n",
       "    .dataframe tbody tr th {\n",
       "        vertical-align: top;\n",
       "    }\n",
       "\n",
       "    .dataframe thead th {\n",
       "        text-align: right;\n",
       "    }\n",
       "</style>\n",
       "<table border=\"1\" class=\"dataframe\">\n",
       "  <thead>\n",
       "    <tr style=\"text-align: right;\">\n",
       "      <th></th>\n",
       "      <th>id</th>\n",
       "      <th>Exited</th>\n",
       "    </tr>\n",
       "  </thead>\n",
       "  <tbody>\n",
       "    <tr>\n",
       "      <th>0</th>\n",
       "      <td>165034</td>\n",
       "      <td>0.014788</td>\n",
       "    </tr>\n",
       "    <tr>\n",
       "      <th>1</th>\n",
       "      <td>165035</td>\n",
       "      <td>0.715874</td>\n",
       "    </tr>\n",
       "    <tr>\n",
       "      <th>2</th>\n",
       "      <td>165036</td>\n",
       "      <td>0.033791</td>\n",
       "    </tr>\n",
       "    <tr>\n",
       "      <th>3</th>\n",
       "      <td>165037</td>\n",
       "      <td>0.235336</td>\n",
       "    </tr>\n",
       "    <tr>\n",
       "      <th>4</th>\n",
       "      <td>165038</td>\n",
       "      <td>0.374565</td>\n",
       "    </tr>\n",
       "  </tbody>\n",
       "</table>\n",
       "</div>"
      ],
      "text/plain": [
       "       id    Exited\n",
       "0  165034  0.014788\n",
       "1  165035  0.715874\n",
       "2  165036  0.033791\n",
       "3  165037  0.235336\n",
       "4  165038  0.374565"
      ]
     },
     "execution_count": 14,
     "metadata": {},
     "output_type": "execute_result"
    }
   ],
   "source": [
    "y_pred = test_preds.mean(axis=0)\n",
    "df_sub = df_test[['id']]\n",
    "df_sub['Exited'] = y_pred\n",
    "df_sub.head()"
   ]
  },
  {
   "cell_type": "code",
   "execution_count": 16,
   "id": "c2e50a7b",
   "metadata": {
    "execution": {
     "iopub.execute_input": "2024-01-19T03:18:37.912725Z",
     "iopub.status.busy": "2024-01-19T03:18:37.912311Z",
     "iopub.status.idle": "2024-01-19T03:18:38.220482Z",
     "shell.execute_reply": "2024-01-19T03:18:38.219439Z"
    },
    "papermill": {
     "duration": 0.331238,
     "end_time": "2024-01-19T03:18:38.223552",
     "exception": false,
     "start_time": "2024-01-19T03:18:37.892314",
     "status": "completed"
    },
    "tags": []
   },
   "outputs": [
    {
     "data": {
      "image/png": "[encoded data removed]",
      "text/plain": [
       "<Figure size 1200x600 with 1 Axes>"
      ]
     },
     "metadata": {},
     "output_type": "display_data"
    }
   ],
   "source": [
    "df_sub.hist(column='Exited', bins=20, range=[0,1],figsize=(12,6))\n",
    "plt.show()"
   ]
  }
 ],
 "metadata": {
  "kaggle": {
   "accelerator": "none",
   "dataSources": [
    {
     "databundleVersionId": 7405009,
     "sourceId": 65711,
     "sourceType": "competition"
    }
   ],
   "dockerImageVersionId": 30635,
   "isGpuEnabled": false,
   "isInternetEnabled": false,
   "language": "python",
   "sourceType": "notebook"
  },
  "kernelspec": {
   "display_name": "Python 3",
   "language": "python",
   "name": "python3"
  },
  "language_info": {
   "codemirror_mode": {
    "name": "ipython",
    "version": 3
   },
   "file_extension": ".py",
   "mimetype": "text/x-python",
   "name": "python",
   "nbconvert_exporter": "python",
   "pygments_lexer": "ipython3",
   "version": "3.10.12"
  },
  "papermill": {
   "default_parameters": {},
   "duration": 414.258683,
   "end_time": "2024-01-19T03:18:38.966403",
   "environment_variables": {},
   "exception": null,
   "input_path": "__notebook__.ipynb",
   "output_path": "__notebook__.ipynb",
   "parameters": {},
   "start_time": "2024-01-19T03:11:44.707720",
   "version": "2.4.0"
  }
 },
 "nbformat": 4,
 "nbformat_minor": 5
}
